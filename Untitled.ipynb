{
 "cells": [
  {
   "cell_type": "code",
   "execution_count": 54,
   "id": "15c564d6",
   "metadata": {},
   "outputs": [
    {
     "data": {
      "text/plain": [
       "'1.10.1+cu113'"
      ]
     },
     "execution_count": 54,
     "metadata": {},
     "output_type": "execute_result"
    }
   ],
   "source": [
    "import torch\n",
    "\n",
    "torch.__version__"
   ]
  },
  {
   "cell_type": "code",
   "execution_count": 55,
   "id": "e624c38c",
   "metadata": {},
   "outputs": [
    {
     "data": {
      "text/plain": [
       "True"
      ]
     },
     "execution_count": 55,
     "metadata": {},
     "output_type": "execute_result"
    }
   ],
   "source": [
    "torch.cuda.is_available()"
   ]
  },
  {
   "cell_type": "code",
   "execution_count": null,
   "id": "315f7596",
   "metadata": {},
   "outputs": [
    {
     "name": "stdout",
     "output_type": "stream",
     "text": [
      "1.10.1+cu113\n",
      "4\n",
      "Start Training......\n",
      "2021-12-30 09:33:40,260 INFO     Model: Rotate16D\n",
      "2021-12-30 09:33:40,260 INFO     Data Path: data/wn18rr\n",
      "2021-12-30 09:33:40,260 INFO     Num Entity: 40943\n",
      "2021-12-30 09:33:40,260 INFO     Num Relation: 11\n",
      "2021-12-30 09:33:40,260 INFO     Num Train: 86835\n",
      "2021-12-30 09:33:40,260 INFO     Num Valid: 3034\n",
      "2021-12-30 09:33:40,260 INFO     Num Test: 3134\n",
      "2021-12-30 09:33:41,327 INFO     Model Parameter Configuration:\n",
      "2021-12-30 09:33:41,327 INFO     Parameter gamma: torch.Size([1]), require_grad = False\n",
      "2021-12-30 09:33:41,327 INFO     Parameter embedding_range: torch.Size([1]), require_grad = False\n",
      "2021-12-30 09:33:41,327 INFO     Parameter entity_embedding: torch.Size([40943, 5250]), require_grad = True\n",
      "2021-12-30 09:33:41,327 INFO     Parameter relation_embedding: torch.Size([11, 5600]), require_grad = True\n",
      "2021-12-30 09:33:46,331 INFO     Randomly Initializing Rotate16D Model...\n",
      "2021-12-30 09:33:46,332 INFO     Start Training...\n",
      "2021-12-30 09:33:46,332 INFO     learning_rate = 5e-05\n",
      "2021-12-30 09:33:46,332 INFO     init_step = 0\n",
      "2021-12-30 09:33:46,332 INFO     batch_size = 512\n",
      "2021-12-30 09:33:46,332 INFO     hidden_dim = 350\n",
      "2021-12-30 09:33:46,332 INFO     gamma = 6.000000\n",
      "2021-12-30 09:33:46,332 INFO     adversarial_temperature = 1.000000\n",
      "2021-12-30 09:33:46,332 INFO     negative_sample_size = 256\n",
      "2021-12-30 09:33:46,332 INFO     p_norm = 1\n",
      "2021-12-30 09:33:46,332 INFO     disable_adv = True\n",
      "2021-12-30 09:33:52,631 INFO     Training average positive_sample_loss at step 0: 73.855370\n",
      "2021-12-30 09:33:52,631 INFO     Training average negative_sample_loss at step 0: 0.000000\n",
      "2021-12-30 09:33:52,632 INFO     Training average loss at step 0: 37.110500\n",
      "2021-12-30 09:33:52,632 INFO     Training average regularization at step 0: 0.182817\n",
      "2021-12-30 09:33:52,632 INFO     Evaluating on Valid Dataset...\n"
     ]
    }
   ],
   "source": [
    "#best setting WN18RR, not enough memory for dim = 500\n",
    "!bash runs.sh train Rotate16D wn18rr 3 0 512 256 200 6.0 1.0 0.00005 60000 8 0.1 1 --disable_adv"
   ]
  },
  {
   "cell_type": "code",
   "execution_count": 31,
   "id": "34acd187",
   "metadata": {},
   "outputs": [
    {
     "name": "stdout",
     "output_type": "stream",
     "text": [
      "1.10.1+cu113\n",
      "4\n",
      "Start Training......\n",
      "2021-12-31 22:30:42,318 INFO     Model: Rotate16D\n",
      "2021-12-31 22:30:42,318 INFO     Data Path: data/FB15k-237\n",
      "2021-12-31 22:30:42,318 INFO     Num Entity: 14541\n",
      "2021-12-31 22:30:42,318 INFO     Num Relation: 237\n",
      "2021-12-31 22:30:42,318 INFO     Num Train: 272115\n",
      "2021-12-31 22:30:42,318 INFO     Num Valid: 17535\n",
      "2021-12-31 22:30:42,318 INFO     Num Test: 20466\n",
      "2021-12-31 22:30:42,932 INFO     Model Parameter Configuration:\n",
      "2021-12-31 22:30:42,933 INFO     Parameter gamma: torch.Size([1]), require_grad = False\n",
      "2021-12-31 22:30:42,933 INFO     Parameter embedding_range: torch.Size([1]), require_grad = False\n",
      "2021-12-31 22:30:42,933 INFO     Parameter entity_embedding: torch.Size([14541, 7500]), require_grad = True\n",
      "2021-12-31 22:30:42,933 INFO     Parameter relation_embedding: torch.Size([237, 8000]), require_grad = True\n",
      "2021-12-31 22:30:49,990 INFO     Randomly Initializing Rotate16D Model...\n",
      "2021-12-31 22:30:49,990 INFO     Start Training...\n",
      "2021-12-31 22:30:49,990 INFO     learning_rate = 5e-05\n",
      "2021-12-31 22:30:49,990 INFO     init_step = 0\n",
      "2021-12-31 22:30:49,990 INFO     batch_size = 1024\n",
      "2021-12-31 22:30:49,990 INFO     hidden_dim = 500\n",
      "2021-12-31 22:30:49,990 INFO     gamma = 12.000000\n",
      "2021-12-31 22:30:49,990 INFO     adversarial_temperature = 1.000000\n",
      "2021-12-31 22:30:49,990 INFO     negative_sample_size = 256\n",
      "2021-12-31 22:30:49,990 INFO     p_norm = 2\n",
      "2021-12-31 22:30:49,990 INFO     disable_adv = False\n",
      "2021-12-31 22:30:54,048 INFO     Training average positive_sample_loss at step 0: 31.646214\n",
      "2021-12-31 22:30:54,048 INFO     Training average negative_sample_loss at step 0: 0.000000\n",
      "2021-12-31 22:30:54,048 INFO     Training average loss at step 0: 15.823107\n",
      "2021-12-31 22:30:54,048 INFO     Training average regularization at step 0: 0.000000\n",
      "2021-12-31 22:30:54,048 INFO     Evaluating on Valid Dataset...\n",
      "2021-12-31 22:30:54,767 INFO     Evaluating the model... (0/4384)\n",
      "2021-12-31 22:35:14,683 INFO     Evaluating the model... (1000/4384)\n",
      "2021-12-31 22:39:36,450 INFO     Evaluating the model... (2000/4384)\n",
      "2021-12-31 22:40:55,364 INFO     Evaluating the model... (3000/4384)\n",
      "2021-12-31 22:41:30,743 INFO     Evaluating the model... (4000/4384)\n",
      "2021-12-31 22:41:44,400 INFO     Valid MRR at step 0: 0.005843\n",
      "2021-12-31 22:41:44,400 INFO     Valid MR at step 0: 6904.971172\n",
      "2021-12-31 22:41:44,400 INFO     Valid HITS@1 at step 0: 0.005133\n",
      "2021-12-31 22:41:44,401 INFO     Valid HITS@3 at step 0: 0.005304\n",
      "2021-12-31 22:41:44,401 INFO     Valid HITS@10 at step 0: 0.005902\n",
      "2021-12-31 22:41:44,401 INFO     Evaluating on Test Dataset...\n",
      "2021-12-31 22:41:45,102 INFO     Evaluating the model... (0/5118)\n",
      "2021-12-31 22:46:07,321 INFO     Evaluating the model... (1000/5118)\n",
      "2021-12-31 22:50:29,565 INFO     Evaluating the model... (2000/5118)\n",
      "2021-12-31 22:53:11,638 INFO     Evaluating the model... (3000/5118)\n",
      "2021-12-31 22:53:47,064 INFO     Evaluating the model... (4000/5118)\n",
      "2021-12-31 22:54:22,738 INFO     Evaluating the model... (5000/5118)\n",
      "2021-12-31 22:54:27,006 INFO     Test MRR at step 0: 0.005218\n",
      "2021-12-31 22:54:27,006 INFO     Test MR at step 0: 6936.960569\n",
      "2021-12-31 22:54:27,006 INFO     Test HITS@1 at step 0: 0.004446\n",
      "2021-12-31 22:54:27,007 INFO     Test HITS@3 at step 0: 0.004642\n",
      "2021-12-31 22:54:27,007 INFO     Test HITS@10 at step 0: 0.005375\n",
      "Traceback (most recent call last):\n",
      "  File \"codes/runs.py\", line 242, in <module>\n",
      "    main(parse_args())\n",
      "  File \"codes/runs.py\", line 187, in main\n",
      "    log = kge_model.module.train_step(kge_model, optimizer, train_iterator, args)\n",
      "  File \"/root/Chi/Rotate16D/codes/models.py\", line 85, in train_step\n",
      "    negative_score, _ = model((positive_sample, negative_sample), batch_type=batch_type)\n",
      "  File \"/opt/conda/lib/python3.7/site-packages/torch/nn/modules/module.py\", line 1102, in _call_impl\n",
      "    return forward_call(*input, **kwargs)\n",
      "  File \"/opt/conda/lib/python3.7/site-packages/torch/nn/parallel/data_parallel.py\", line 166, in forward\n",
      "    return self.module(*inputs[0], **kwargs[0])\n",
      "  File \"/opt/conda/lib/python3.7/site-packages/torch/nn/modules/module.py\", line 1102, in _call_impl\n",
      "    return forward_call(*input, **kwargs)\n",
      "  File \"/root/Chi/Rotate16D/codes/models.py\", line 74, in forward\n",
      "    return self.func(head, relation, tail, batch_type), (head, tail)\n",
      "  File \"/root/Chi/Rotate16D/codes/models.py\", line 338, in func\n",
      "    score_e9, score_e10, score_e11, score_e12, score_e13, score_e14, score_e15], dim=0)\n",
      "RuntimeError: CUDA out of memory. Tried to allocate 7.32 GiB (GPU 0; 39.59 GiB total capacity; 32.48 GiB already allocated; 4.39 GiB free; 32.98 GiB reserved in total by PyTorch) If reserved memory is >> allocated memory try setting max_split_size_mb to avoid fragmentation.  See documentation for Memory Management and PYTORCH_CUDA_ALLOC_CONF\n"
     ]
    }
   ],
   "source": [
    "#best setting for FB15k237, not enough memory for dim = 1000\n",
    "!bash runs.sh train Rotate16D FB15k-237 3 0 1024 256 300 12.0 1.0 0.00005 100000 8 0 2"
   ]
  },
  {
   "cell_type": "code",
   "execution_count": 43,
   "id": "7a43f34b",
   "metadata": {},
   "outputs": [
    {
     "name": "stdout",
     "output_type": "stream",
     "text": [
      "1.10.1+cu113\n",
      "4\n",
      "Start Training......\n",
      "2022-01-01 23:16:42,901 INFO     Model: Rotate16D\n",
      "2022-01-01 23:16:42,902 INFO     Data Path: data/wn18\n",
      "2022-01-01 23:16:42,902 INFO     Num Entity: 40943\n",
      "2022-01-01 23:16:42,902 INFO     Num Relation: 18\n",
      "2022-01-01 23:16:42,902 INFO     Num Train: 141442\n",
      "2022-01-01 23:16:42,902 INFO     Num Valid: 5000\n",
      "2022-01-01 23:16:42,902 INFO     Num Test: 5000\n",
      "2022-01-01 23:16:43,639 INFO     Model Parameter Configuration:\n",
      "2022-01-01 23:16:43,639 INFO     Parameter gamma: torch.Size([1]), require_grad = False\n",
      "2022-01-01 23:16:43,639 INFO     Parameter embedding_range: torch.Size([1]), require_grad = False\n",
      "2022-01-01 23:16:43,639 INFO     Parameter entity_embedding: torch.Size([40943, 3000]), require_grad = True\n",
      "2022-01-01 23:16:43,639 INFO     Parameter relation_embedding: torch.Size([18, 3200]), require_grad = True\n",
      "2022-01-01 23:16:50,354 INFO     Randomly Initializing Rotate16D Model...\n",
      "2022-01-01 23:16:50,354 INFO     Start Training...\n",
      "2022-01-01 23:16:50,354 INFO     learning_rate = 0.0001\n",
      "2022-01-01 23:16:50,354 INFO     init_step = 0\n",
      "2022-01-01 23:16:50,354 INFO     batch_size = 512\n",
      "2022-01-01 23:16:50,354 INFO     hidden_dim = 200\n",
      "2022-01-01 23:16:50,354 INFO     gamma = 12.000000\n",
      "2022-01-01 23:16:50,354 INFO     adversarial_temperature = 1.000000\n",
      "2022-01-01 23:16:50,354 INFO     negative_sample_size = 256\n",
      "2022-01-01 23:16:50,354 INFO     p_norm = 2\n",
      "2022-01-01 23:16:50,355 INFO     disable_adv = True\n",
      "2022-01-01 23:16:54,705 INFO     Training average positive_sample_loss at step 0: 31.730585\n",
      "2022-01-01 23:16:54,706 INFO     Training average negative_sample_loss at step 0: 0.000000\n",
      "2022-01-01 23:16:54,706 INFO     Training average loss at step 0: 15.865293\n",
      "2022-01-01 23:16:54,706 INFO     Training average regularization at step 0: 0.000000\n",
      "2022-01-01 23:16:54,706 INFO     Evaluating on Valid Dataset...\n",
      "2022-01-01 23:16:55,502 INFO     Evaluating the model... (0/1250)\n",
      "^C\n"
     ]
    }
   ],
   "source": [
    "#best setting for WN18, not enough memory for dim = 300\n",
    "!bash runs.sh train Rotate16D wn18 3 0 512 256 300 12.0 1.0 0.0001 80000 8 0 2 --disable_adv "
   ]
  },
  {
   "cell_type": "code",
   "execution_count": null,
   "id": "d8116904",
   "metadata": {},
   "outputs": [
    {
     "name": "stdout",
     "output_type": "stream",
     "text": [
      "1.10.1+cu113\n",
      "4\n",
      "Start Training......\n",
      "2022-01-02 10:10:38,531 INFO     Model: Rotate16D\n",
      "2022-01-02 10:10:38,531 INFO     Data Path: data/FB15k\n",
      "2022-01-02 10:10:38,531 INFO     Num Entity: 14951\n",
      "2022-01-02 10:10:38,531 INFO     Num Relation: 1345\n",
      "2022-01-02 10:10:38,531 INFO     Num Train: 483142\n",
      "2022-01-02 10:10:38,531 INFO     Num Valid: 50000\n",
      "2022-01-02 10:10:38,531 INFO     Num Test: 59071\n",
      "2022-01-02 10:10:39,249 INFO     Model Parameter Configuration:\n",
      "2022-01-02 10:10:39,249 INFO     Parameter gamma: torch.Size([1]), require_grad = False\n",
      "2022-01-02 10:10:39,249 INFO     Parameter embedding_range: torch.Size([1]), require_grad = False\n",
      "2022-01-02 10:10:39,249 INFO     Parameter entity_embedding: torch.Size([14951, 7500]), require_grad = True\n",
      "2022-01-02 10:10:39,249 INFO     Parameter relation_embedding: torch.Size([1345, 8000]), require_grad = True\n",
      "2022-01-02 10:10:50,031 INFO     Randomly Initializing Rotate16D Model...\n",
      "2022-01-02 10:10:50,031 INFO     Start Training...\n",
      "2022-01-02 10:10:50,031 INFO     learning_rate = 5e-05\n",
      "2022-01-02 10:10:50,031 INFO     init_step = 0\n",
      "2022-01-02 10:10:50,031 INFO     batch_size = 1024\n",
      "2022-01-02 10:10:50,032 INFO     hidden_dim = 500\n",
      "2022-01-02 10:10:50,032 INFO     gamma = 24.000000\n",
      "2022-01-02 10:10:50,032 INFO     adversarial_temperature = 0.500000\n",
      "2022-01-02 10:10:50,032 INFO     negative_sample_size = 256\n",
      "2022-01-02 10:10:50,032 INFO     p_norm = 2\n",
      "2022-01-02 10:10:50,032 INFO     disable_adv = False\n",
      "2022-01-02 10:10:54,868 INFO     Training average positive_sample_loss at step 0: 57.132458\n",
      "2022-01-02 10:10:54,868 INFO     Training average negative_sample_loss at step 0: 0.000000\n",
      "2022-01-02 10:10:54,868 INFO     Training average loss at step 0: 28.566229\n",
      "2022-01-02 10:10:54,868 INFO     Training average regularization at step 0: 0.000000\n",
      "2022-01-02 10:10:54,868 INFO     Evaluating on Valid Dataset...\n",
      "2022-01-02 10:10:55,969 INFO     Evaluating the model... (0/12500)\n"
     ]
    }
   ],
   "source": [
    "#best setting FB15k, not enough memory for dim = 1000\n",
    "!bash runs.sh train Rotate16D FB15k 3 0 1024 256 350 24.0 0.5 0.00005 150000 8 0 2"
   ]
  },
  {
   "cell_type": "code",
   "execution_count": null,
   "id": "8ab9b17a",
   "metadata": {},
   "outputs": [],
   "source": []
  }
 ],
 "metadata": {
  "kernelspec": {
   "display_name": "Python 3 (ipykernel)",
   "language": "python",
   "name": "python3"
  },
  "language_info": {
   "codemirror_mode": {
    "name": "ipython",
    "version": 3
   },
   "file_extension": ".py",
   "mimetype": "text/x-python",
   "name": "python",
   "nbconvert_exporter": "python",
   "pygments_lexer": "ipython3",
   "version": "3.7.11"
  }
 },
 "nbformat": 4,
 "nbformat_minor": 5
}
